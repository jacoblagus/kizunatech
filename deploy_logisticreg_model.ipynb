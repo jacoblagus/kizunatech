{
 "cells": [
  {
   "cell_type": "code",
   "execution_count": 14,
   "metadata": {},
   "outputs": [],
   "source": [
    "import sagemaker\n",
    "import boto3\n",
    "import pandas as pd\n",
    "import requests\n",
    "import json\n",
    "\n",
    "sess = sagemaker.Session(boto3.session.Session(region_name='us-east-2'))\n",
    "role = 'arn:aws:iam::178346040475:role/service-role/AmazonSageMaker-ExecutionRole-20200616T152066'"
   ]
  },
  {
   "cell_type": "code",
   "execution_count": 7,
   "metadata": {},
   "outputs": [
    {
     "name": "stdout",
     "output_type": "stream",
     "text": [
      "403\n"
     ]
    }
   ],
   "source": [
    "request = requests.get('https://0n5dn59xeb.execute-api.us-east-2.amazonaws.com/LogisticStart')\n",
    "print(request.status_code)\n",
    "\n",
    "# https://0n5dn59xeb.execute-api.us-east-2.amazonaws.com/LogisticStart"
   ]
  },
  {
   "cell_type": "code",
   "execution_count": 55,
   "metadata": {},
   "outputs": [],
   "source": [
    "customHeader = {'x-api-key': '6NN6vAjuJRqENqcXccJF1DdOqUBpw2f6RitcO3af'}\n",
    "r = requests.post('https://jert93zwv9.execute-api.us-east-2.amazonaws.com/FirstStage/test-logistic', data=json.dumps({\"data\":\"1.0000000e+00, 2.3180000e+01, 2.7271999e+01, 4.2600000e+02,7.2125000e+02, 4.7929883e-03, 1.0000000e+00\"}), headers=customHeader)"
   ]
  },
  {
   "cell_type": "code",
   "execution_count": 57,
   "metadata": {},
   "outputs": [
    {
     "data": {
      "text/plain": [
       "'{\"predictions\": [{\"score\": 0.9984032511711121, \"predicted_label\": 1}]}'"
      ]
     },
     "execution_count": 57,
     "metadata": {},
     "output_type": "execute_result"
    }
   ],
   "source": [
    "r.text"
   ]
  },
  {
   "cell_type": "code",
   "execution_count": 70,
   "metadata": {},
   "outputs": [
    {
     "data": {
      "text/plain": [
       "'{\"predictions\": [{\"score\": 0.9984032511711121, \"predicted_label\": 1}]}'"
      ]
     },
     "execution_count": 70,
     "metadata": {},
     "output_type": "execute_result"
    }
   ],
   "source": [
    "# Attempt at batch prediction\n",
    "p = requests.post('https://jert93zwv9.execute-api.us-east-2.amazonaws.com/FirstStage/test-logistic', data=json.dumps({\"data\":\"7.0000000e+00, 2.3180000e+01, 1, 4.2600000e+02,0, 0, 1.0000000e+00\",\"data\":\"1.0000000e+00, 2.3180000e+01, 2.7271999e+01, 4.2600000e+02,7.2125000e+02, 4.7929883e-03, 1.0000000e+00\"}), headers=customHeader)\n",
    "\n",
    "\n",
    "p.text"
   ]
  },
  {
   "cell_type": "code",
   "execution_count": null,
   "metadata": {},
   "outputs": [],
   "source": []
  }
 ],
 "metadata": {
  "kernelspec": {
   "display_name": "Python 3",
   "language": "python",
   "name": "python3"
  },
  "language_info": {
   "codemirror_mode": {
    "name": "ipython",
    "version": 3
   },
   "file_extension": ".py",
   "mimetype": "text/x-python",
   "name": "python",
   "nbconvert_exporter": "python",
   "pygments_lexer": "ipython3",
   "version": "3.7.6"
  }
 },
 "nbformat": 4,
 "nbformat_minor": 4
}
